{
 "cells": [
  {
   "cell_type": "markdown",
   "id": "4b6b697f-6af3-40da-be25-1bb0807ae238",
   "metadata": {},
   "source": [
    "!pip install yfinance pandas numpy matplotlib"
   ]
  },
  {
   "cell_type": "code",
   "execution_count": 4,
   "id": "0c658021-f098-440b-a96e-35df1649fd4c",
   "metadata": {},
   "outputs": [],
   "source": [
    "import yfinance as yf\n",
    "import pandas as pd\n",
    "import numpy as np\n",
    "import matplotlib.pyplot as plt"
   ]
  },
  {
   "cell_type": "markdown",
   "id": "95734808-7d55-413e-8898-0cff6141e09c",
   "metadata": {},
   "source": [
    "# Dowloading the Stock Data"
   ]
  },
  {
   "cell_type": "code",
   "execution_count": 11,
   "id": "dbab7640-bcff-4c94-a7b5-8b20685c78f1",
   "metadata": {},
   "outputs": [
    {
     "name": "stdout",
     "output_type": "stream",
     "text": [
      "YF.download() has changed argument auto_adjust default to True\n"
     ]
    },
    {
     "name": "stderr",
     "output_type": "stream",
     "text": [
      "[*********************100%***********************]  1 of 1 completed\n"
     ]
    },
    {
     "data": {
      "text/html": [
       "<div>\n",
       "<style scoped>\n",
       "    .dataframe tbody tr th:only-of-type {\n",
       "        vertical-align: middle;\n",
       "    }\n",
       "\n",
       "    .dataframe tbody tr th {\n",
       "        vertical-align: top;\n",
       "    }\n",
       "\n",
       "    .dataframe thead tr th {\n",
       "        text-align: left;\n",
       "    }\n",
       "\n",
       "    .dataframe thead tr:last-of-type th {\n",
       "        text-align: right;\n",
       "    }\n",
       "</style>\n",
       "<table border=\"1\" class=\"dataframe\">\n",
       "  <thead>\n",
       "    <tr>\n",
       "      <th>Price</th>\n",
       "      <th>Close</th>\n",
       "      <th>High</th>\n",
       "      <th>Low</th>\n",
       "      <th>Open</th>\n",
       "      <th>Volume</th>\n",
       "    </tr>\n",
       "    <tr>\n",
       "      <th>Ticker</th>\n",
       "      <th>BAC</th>\n",
       "      <th>BAC</th>\n",
       "      <th>BAC</th>\n",
       "      <th>BAC</th>\n",
       "      <th>BAC</th>\n",
       "    </tr>\n",
       "    <tr>\n",
       "      <th>Date</th>\n",
       "      <th></th>\n",
       "      <th></th>\n",
       "      <th></th>\n",
       "      <th></th>\n",
       "      <th></th>\n",
       "    </tr>\n",
       "  </thead>\n",
       "  <tbody>\n",
       "    <tr>\n",
       "      <th>2020-01-02</th>\n",
       "      <td>31.275545</td>\n",
       "      <td>31.293096</td>\n",
       "      <td>30.968407</td>\n",
       "      <td>31.021058</td>\n",
       "      <td>37614200</td>\n",
       "    </tr>\n",
       "    <tr>\n",
       "      <th>2020-01-03</th>\n",
       "      <td>30.626162</td>\n",
       "      <td>30.845547</td>\n",
       "      <td>30.503303</td>\n",
       "      <td>30.696363</td>\n",
       "      <td>50357900</td>\n",
       "    </tr>\n",
       "    <tr>\n",
       "      <th>2020-01-06</th>\n",
       "      <td>30.582281</td>\n",
       "      <td>30.626161</td>\n",
       "      <td>30.161062</td>\n",
       "      <td>30.196165</td>\n",
       "      <td>42185000</td>\n",
       "    </tr>\n",
       "    <tr>\n",
       "      <th>2020-01-07</th>\n",
       "      <td>30.380453</td>\n",
       "      <td>30.643715</td>\n",
       "      <td>30.301474</td>\n",
       "      <td>30.450658</td>\n",
       "      <td>34149000</td>\n",
       "    </tr>\n",
       "    <tr>\n",
       "      <th>2020-01-08</th>\n",
       "      <td>30.687590</td>\n",
       "      <td>30.880646</td>\n",
       "      <td>30.319021</td>\n",
       "      <td>30.336572</td>\n",
       "      <td>45311600</td>\n",
       "    </tr>\n",
       "  </tbody>\n",
       "</table>\n",
       "</div>"
      ],
      "text/plain": [
       "Price           Close       High        Low       Open    Volume\n",
       "Ticker            BAC        BAC        BAC        BAC       BAC\n",
       "Date                                                            \n",
       "2020-01-02  31.275545  31.293096  30.968407  31.021058  37614200\n",
       "2020-01-03  30.626162  30.845547  30.503303  30.696363  50357900\n",
       "2020-01-06  30.582281  30.626161  30.161062  30.196165  42185000\n",
       "2020-01-07  30.380453  30.643715  30.301474  30.450658  34149000\n",
       "2020-01-08  30.687590  30.880646  30.319021  30.336572  45311600"
      ]
     },
     "execution_count": 11,
     "metadata": {},
     "output_type": "execute_result"
    }
   ],
   "source": [
    "#getting the real srock prices for calc rsi and build the startegy\n",
    "data = yf.download('BAC' , start = '2020-01-01' , end = '2021-01-01')\n",
    "data.head()"
   ]
  },
  {
   "cell_type": "markdown",
   "id": "8d2da5bd-f8fe-4181-943e-c719cb9b53d1",
   "metadata": {},
   "source": [
    "# Calculating the RSI"
   ]
  },
  {
   "cell_type": "code",
   "execution_count": 35,
   "id": "3b2fb6de-5239-4929-9a0b-c17ecc8e87d0",
   "metadata": {},
   "outputs": [],
   "source": [
    "# function to calculate the RSI\n",
    "def calc_rsi(series, period=14):\n",
    "    delta = series.diff()\n",
    "    gain = (delta.where(delta > 0, 0)).rolling(window=period).mean()\n",
    "    loss = (-delta.where(delta < 0, 0)).rolling(window=period).mean()\n",
    "    rs = gain / loss \n",
    "    return 100 - (100 / (1 + rs))\n",
    "\n",
    "# apply it to the correct column\n",
    "data['RSI'] = calc_rsi(data['Close'])"
   ]
  },
  {
   "cell_type": "markdown",
   "id": "00c6e260-f544-439f-b38f-f801c8762a94",
   "metadata": {},
   "source": [
    " # Creating Buy/Sell Signals "
   ]
  },
  {
   "cell_type": "code",
   "execution_count": 37,
   "id": "fd65c4c0-3242-4b54-af35-04521cc2c85e",
   "metadata": {},
   "outputs": [],
   "source": [
    "data['Signal'] = 0 \n",
    "data.loc[data['RSI']< 30 , 'Signal']  = 1\n",
    "data.loc[data['RSI']> 70 , 'Signal']  = -1\n",
    "\n",
    "data['Position'] = data['Signal'].diff()"
   ]
  },
  {
   "cell_type": "markdown",
   "id": "f64c8e2d-c19e-40df-8d80-bd740658ea22",
   "metadata": {},
   "source": [
    "# Plotting thr RSI strategy"
   ]
  },
  {
   "cell_type": "code",
   "execution_count": null,
   "id": "a8c2e68e-791c-4f3b-b925-d86d3fe18827",
   "metadata": {},
   "outputs": [],
   "source": [
    "plt.figure(figsize=(14, 7))\n",
    "plt.plot(data['Close'], label='Close Price', alpha=0.5)\n",
    "plt.scatter(data.index[data['Position'] == 1],\n",
    "            data['Close'][data['Position'] == 1],\n",
    "            label='Buy-Signal', marker='^', color='green', lw=3)\n",
    "plt.scatter(data.index[data['Position'] == -1],\n",
    "            data['Close'][data['Position'] == -1],\n",
    "            label='Sell-Signal', marker='v', color='red', lw=3)  \n",
    "plt.title('RSI STRAT FOR TRADING(BUY below 30  &  SELL below 70)')\n",
    "plt.xlabel('Date')\n",
    "plt.ylabel('Price (USD)')\n",
    "plt.legend()\n",
    "plt.grid()\n",
    "plt.show()"
   ]
  },
  {
   "cell_type": "code",
   "execution_count": null,
   "id": "4cb85866-5606-4cce-b9e1-e41fe970a06b",
   "metadata": {},
   "outputs": [],
   "source": []
  }
 ],
 "metadata": {
  "kernelspec": {
   "display_name": "Python 3 (ipykernel)",
   "language": "python",
   "name": "python3"
  },
  "language_info": {
   "codemirror_mode": {
    "name": "ipython",
    "version": 3
   },
   "file_extension": ".py",
   "mimetype": "text/x-python",
   "name": "python",
   "nbconvert_exporter": "python",
   "pygments_lexer": "ipython3",
   "version": "3.12.4"
  }
 },
 "nbformat": 4,
 "nbformat_minor": 5
}
